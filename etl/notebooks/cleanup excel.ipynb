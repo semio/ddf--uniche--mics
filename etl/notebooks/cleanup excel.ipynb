{
 "cells": [
  {
   "cell_type": "code",
   "execution_count": 1,
   "metadata": {
    "collapsed": true
   },
   "outputs": [],
   "source": [
    "import pandas as pd\n",
    "import xlrd"
   ]
  },
  {
   "cell_type": "code",
   "execution_count": 2,
   "metadata": {
    "collapsed": true
   },
   "outputs": [],
   "source": [
    "f = '../output/stage1/Serbia (National and Roma Settlements) 2014 MICS_English.xlsx'"
   ]
  },
  {
   "cell_type": "code",
   "execution_count": 3,
   "metadata": {
    "collapsed": true
   },
   "outputs": [],
   "source": [
    "wb = xlrd.open_workbook(f)"
   ]
  },
  {
   "cell_type": "code",
   "execution_count": 4,
   "metadata": {
    "collapsed": false
   },
   "outputs": [
    {
     "data": {
      "text/plain": [
       "279"
      ]
     },
     "execution_count": 4,
     "metadata": {},
     "output_type": "execute_result"
    }
   ],
   "source": [
    "len(wb.sheet_names())"
   ]
  },
  {
   "cell_type": "code",
   "execution_count": 55,
   "metadata": {
    "collapsed": false
   },
   "outputs": [],
   "source": [
    "tables = []\n",
    "\n",
    "for i in range(3, 8):\n",
    "    t = pd.read_excel(f, sheetname=\"Table \"+str(i), header=None).dropna(how='all', axis=1)\n",
    "    tables.append(t)"
   ]
  },
  {
   "cell_type": "code",
   "execution_count": 56,
   "metadata": {
    "collapsed": false
   },
   "outputs": [],
   "source": [
    "t = tables[1]"
   ]
  },
  {
   "cell_type": "code",
   "execution_count": 57,
   "metadata": {
    "collapsed": false
   },
   "outputs": [],
   "source": [
    "t[0] = t[0].map(str)"
   ]
  },
  {
   "cell_type": "code",
   "execution_count": 58,
   "metadata": {
    "collapsed": false
   },
   "outputs": [
    {
     "data": {
      "text/html": [
       "<div>\n",
       "<table border=\"1\" class=\"dataframe\">\n",
       "  <thead>\n",
       "    <tr style=\"text-align: right;\">\n",
       "      <th></th>\n",
       "      <th>0</th>\n",
       "      <th>1</th>\n",
       "      <th>2</th>\n",
       "      <th>3</th>\n",
       "      <th>4</th>\n",
       "      <th>5</th>\n",
       "    </tr>\n",
       "  </thead>\n",
       "  <tbody>\n",
       "    <tr>\n",
       "      <th>0</th>\n",
       "      <td>2.9</td>\n",
       "      <td>NaN</td>\n",
       "      <td>Continued breastfeeding at 1 year</td>\n",
       "      <td>Percentage of children age 12-15 months who re...</td>\n",
       "      <td>24.6</td>\n",
       "      <td>62</td>\n",
       "    </tr>\n",
       "    <tr>\n",
       "      <th>1</th>\n",
       "      <td>2.1</td>\n",
       "      <td>NaN</td>\n",
       "      <td>Continued breastfeeding at 2 years</td>\n",
       "      <td>Percentage of children age 20-23 months who re...</td>\n",
       "      <td>8.9</td>\n",
       "      <td>33.3</td>\n",
       "    </tr>\n",
       "    <tr>\n",
       "      <th>2</th>\n",
       "      <td>2.11</td>\n",
       "      <td>NaN</td>\n",
       "      <td>Median duration of breastfeeding</td>\n",
       "      <td>The age in months when 50 percent of children ...</td>\n",
       "      <td>10.5</td>\n",
       "      <td>15.7</td>\n",
       "    </tr>\n",
       "    <tr>\n",
       "      <th>3</th>\n",
       "      <td>2.12</td>\n",
       "      <td>NaN</td>\n",
       "      <td>Age-appropriate breastfeeding</td>\n",
       "      <td>Percentage of children age 0-23 months appropr...</td>\n",
       "      <td>23.4</td>\n",
       "      <td>42.9</td>\n",
       "    </tr>\n",
       "    <tr>\n",
       "      <th>4</th>\n",
       "      <td>2.13</td>\n",
       "      <td>NaN</td>\n",
       "      <td>Introduction of solid, semi-solid or soft foods</td>\n",
       "      <td>Percentage of infants age 6-8 months who recei...</td>\n",
       "      <td>96.6</td>\n",
       "      <td>89.6</td>\n",
       "    </tr>\n",
       "    <tr>\n",
       "      <th>5</th>\n",
       "      <td>2.14</td>\n",
       "      <td>NaN</td>\n",
       "      <td>Milk feeding frequency for non- breastfed chil...</td>\n",
       "      <td>Percentage of non-breastfed children age 6-23 ...</td>\n",
       "      <td>84.3</td>\n",
       "      <td>62.1</td>\n",
       "    </tr>\n",
       "    <tr>\n",
       "      <th>6</th>\n",
       "      <td>2.15</td>\n",
       "      <td>NaN</td>\n",
       "      <td>Minimum meal frequency</td>\n",
       "      <td>Percentage of children age 6-23 months who rec...</td>\n",
       "      <td>94.4</td>\n",
       "      <td>71.7</td>\n",
       "    </tr>\n",
       "    <tr>\n",
       "      <th>7</th>\n",
       "      <td>2.16</td>\n",
       "      <td>NaN</td>\n",
       "      <td>Minimum dietary diversity</td>\n",
       "      <td>Percentage of children age 6-23 months who rec...</td>\n",
       "      <td>89.6</td>\n",
       "      <td>51.3</td>\n",
       "    </tr>\n",
       "    <tr>\n",
       "      <th>8</th>\n",
       "      <td>2.17a\\n2.17b</td>\n",
       "      <td>NaN</td>\n",
       "      <td>Minimum acceptable diet</td>\n",
       "      <td>(a)   Percentage of breastfed children age 6-2...</td>\n",
       "      <td>68.9\\n73.0</td>\n",
       "      <td>26.8\\n36.5</td>\n",
       "    </tr>\n",
       "    <tr>\n",
       "      <th>9</th>\n",
       "      <td>2.18</td>\n",
       "      <td>NaN</td>\n",
       "      <td>Bottle feeding</td>\n",
       "      <td>Percentage of children age 0-23 months who wer...</td>\n",
       "      <td>83.1</td>\n",
       "      <td>72</td>\n",
       "    </tr>\n",
       "    <tr>\n",
       "      <th>11</th>\n",
       "      <td>2.2</td>\n",
       "      <td>NaN</td>\n",
       "      <td>Low-birthweight infants</td>\n",
       "      <td>Percentage of most recent live births in the l...</td>\n",
       "      <td>5.1</td>\n",
       "      <td>14.7</td>\n",
       "    </tr>\n",
       "    <tr>\n",
       "      <th>12</th>\n",
       "      <td>2.21</td>\n",
       "      <td>NaN</td>\n",
       "      <td>Infants weighed at birth</td>\n",
       "      <td>Percentage of most recent live births in the l...</td>\n",
       "      <td>98.7</td>\n",
       "      <td>98.6</td>\n",
       "    </tr>\n",
       "    <tr>\n",
       "      <th>16</th>\n",
       "      <td>3.1</td>\n",
       "      <td>NaN</td>\n",
       "      <td>Tuberculosis immunization coverage</td>\n",
       "      <td>Percentage of children age 12-23 months who re...</td>\n",
       "      <td>98</td>\n",
       "      <td>94.3</td>\n",
       "    </tr>\n",
       "    <tr>\n",
       "      <th>17</th>\n",
       "      <td>3.2</td>\n",
       "      <td>NaN</td>\n",
       "      <td>Polio immunization coverage</td>\n",
       "      <td>Percentage of children age 12-23 months who re...</td>\n",
       "      <td>86.4</td>\n",
       "      <td>61</td>\n",
       "    </tr>\n",
       "    <tr>\n",
       "      <th>18</th>\n",
       "      <td>3.3</td>\n",
       "      <td>NaN</td>\n",
       "      <td>Diphtheria, pertussis and tetanus (DPT) immuni...</td>\n",
       "      <td>Percentage of children age 12-23 months who re...</td>\n",
       "      <td>87.4</td>\n",
       "      <td>64.5</td>\n",
       "    </tr>\n",
       "    <tr>\n",
       "      <th>19</th>\n",
       "      <td>3.4</td>\n",
       "      <td>MDG 4.3</td>\n",
       "      <td>Measles immunization coverage</td>\n",
       "      <td>Percentage of children age 24-35 months who re...</td>\n",
       "      <td>93.4</td>\n",
       "      <td>63.3</td>\n",
       "    </tr>\n",
       "    <tr>\n",
       "      <th>20</th>\n",
       "      <td>3.5</td>\n",
       "      <td>NaN</td>\n",
       "      <td>Hepatitis B immunization coverage</td>\n",
       "      <td>Percentage of children age 12-23 months who re...</td>\n",
       "      <td>91.3</td>\n",
       "      <td>67.8</td>\n",
       "    </tr>\n",
       "    <tr>\n",
       "      <th>21</th>\n",
       "      <td>3.6</td>\n",
       "      <td>NaN</td>\n",
       "      <td>Haemophilus influenzae type B (Hib) immunizati...</td>\n",
       "      <td>Percentage of children age 12-23 months who re...</td>\n",
       "      <td>80.4</td>\n",
       "      <td>49.6</td>\n",
       "    </tr>\n",
       "    <tr>\n",
       "      <th>22</th>\n",
       "      <td>3.8</td>\n",
       "      <td>NaN</td>\n",
       "      <td>Full immunization coverage</td>\n",
       "      <td>Percentage of children age 24-35 months who re...</td>\n",
       "      <td>70.5</td>\n",
       "      <td>12.7</td>\n",
       "    </tr>\n",
       "    <tr>\n",
       "      <th>25</th>\n",
       "      <td>3.15</td>\n",
       "      <td>NaN</td>\n",
       "      <td>Use of solid fuels for cooking</td>\n",
       "      <td>Percentage of household members in households ...</td>\n",
       "      <td>34.2</td>\n",
       "      <td>81.9</td>\n",
       "    </tr>\n",
       "  </tbody>\n",
       "</table>\n",
       "</div>"
      ],
      "text/plain": [
       "               0        1                                                  2  \\\n",
       "0            2.9      NaN                  Continued breastfeeding at 1 year   \n",
       "1            2.1      NaN                 Continued breastfeeding at 2 years   \n",
       "2           2.11      NaN                   Median duration of breastfeeding   \n",
       "3           2.12      NaN                      Age-appropriate breastfeeding   \n",
       "4           2.13      NaN    Introduction of solid, semi-solid or soft foods   \n",
       "5           2.14      NaN  Milk feeding frequency for non- breastfed chil...   \n",
       "6           2.15      NaN                             Minimum meal frequency   \n",
       "7           2.16      NaN                          Minimum dietary diversity   \n",
       "8   2.17a\\n2.17b      NaN                            Minimum acceptable diet   \n",
       "9           2.18      NaN                                     Bottle feeding   \n",
       "11           2.2      NaN                            Low-birthweight infants   \n",
       "12          2.21      NaN                           Infants weighed at birth   \n",
       "16           3.1      NaN                 Tuberculosis immunization coverage   \n",
       "17           3.2      NaN                        Polio immunization coverage   \n",
       "18           3.3      NaN  Diphtheria, pertussis and tetanus (DPT) immuni...   \n",
       "19           3.4  MDG 4.3                      Measles immunization coverage   \n",
       "20           3.5      NaN                  Hepatitis B immunization coverage   \n",
       "21           3.6      NaN  Haemophilus influenzae type B (Hib) immunizati...   \n",
       "22           3.8      NaN                         Full immunization coverage   \n",
       "25          3.15      NaN                     Use of solid fuels for cooking   \n",
       "\n",
       "                                                    3           4           5  \n",
       "0   Percentage of children age 12-15 months who re...        24.6          62  \n",
       "1   Percentage of children age 20-23 months who re...         8.9        33.3  \n",
       "2   The age in months when 50 percent of children ...        10.5        15.7  \n",
       "3   Percentage of children age 0-23 months appropr...        23.4        42.9  \n",
       "4   Percentage of infants age 6-8 months who recei...        96.6        89.6  \n",
       "5   Percentage of non-breastfed children age 6-23 ...        84.3        62.1  \n",
       "6   Percentage of children age 6-23 months who rec...        94.4        71.7  \n",
       "7   Percentage of children age 6-23 months who rec...        89.6        51.3  \n",
       "8   (a)   Percentage of breastfed children age 6-2...  68.9\\n73.0  26.8\\n36.5  \n",
       "9   Percentage of children age 0-23 months who wer...        83.1          72  \n",
       "11  Percentage of most recent live births in the l...         5.1        14.7  \n",
       "12  Percentage of most recent live births in the l...        98.7        98.6  \n",
       "16  Percentage of children age 12-23 months who re...          98        94.3  \n",
       "17  Percentage of children age 12-23 months who re...        86.4          61  \n",
       "18  Percentage of children age 12-23 months who re...        87.4        64.5  \n",
       "19  Percentage of children age 24-35 months who re...        93.4        63.3  \n",
       "20  Percentage of children age 12-23 months who re...        91.3        67.8  \n",
       "21  Percentage of children age 12-23 months who re...        80.4        49.6  \n",
       "22  Percentage of children age 24-35 months who re...        70.5        12.7  \n",
       "25  Percentage of household members in households ...        34.2        81.9  "
      ]
     },
     "execution_count": 58,
     "metadata": {},
     "output_type": "execute_result"
    }
   ],
   "source": [
    "t[t[0].str.match(\"^[0-9]+\\.[0-9]+.*\").fillna(False)]"
   ]
  },
  {
   "cell_type": "code",
   "execution_count": null,
   "metadata": {
    "collapsed": true
   },
   "outputs": [],
   "source": []
  }
 ],
 "metadata": {
  "kernelspec": {
   "display_name": "Python 3",
   "language": "python",
   "name": "python3"
  },
  "language_info": {
   "codemirror_mode": {
    "name": "ipython",
    "version": 3
   },
   "file_extension": ".py",
   "mimetype": "text/x-python",
   "name": "python",
   "nbconvert_exporter": "python",
   "pygments_lexer": "ipython3",
   "version": "3.5.2"
  }
 },
 "nbformat": 4,
 "nbformat_minor": 0
}
